{
 "cells": [
  {
   "cell_type": "code",
   "execution_count": 2,
   "metadata": {},
   "outputs": [],
   "source": [
    "import pandas as pd\n",
    "from sklearn.linear_model import LogisticRegression\n",
    "from sklearn.model_selection import train_test_split\n",
    "import category_encoders as ce\n",
    "from sklearn.pipeline import make_pipeline\n",
    "from sklearn.metrics import accuracy_score\n",
    "import seaborn as sns\n",
    "import matplotlib.pyplot as plt\n",
    "from sklearn.decomposition import PCA\n",
    "from sklearn.preprocessing import RobustScaler\n",
    "import numpy as np\n",
    "from sklearn.model_selection import GridSearchCV\n",
    "from sklearn.feature_selection import f_regression, SelectKBest\n",
    "from sklearn.neighbors import NearestNeighbors\n",
    "from sklearn import ensemble\n",
    "from sklearn.metrics import classification_report\n",
    "from sklearn.neighbors import KNeighborsClassifier"
   ]
  },
  {
   "cell_type": "code",
   "execution_count": 3,
   "metadata": {},
   "outputs": [],
   "source": [
    "x = pd.read_csv(\"train_features.csv\")\n",
    "y = pd.read_csv(\"train_labels.csv\")\n",
    "y = y.drop([\"id\"],axis=1)\n",
    "test_features = pd.read_csv(\"test_features.csv\")"
   ]
  },
  {
   "cell_type": "code",
   "execution_count": 4,
   "metadata": {},
   "outputs": [],
   "source": [
    "pd.set_option('display.max_columns', None)"
   ]
  },
  {
   "cell_type": "code",
   "execution_count": 5,
   "metadata": {},
   "outputs": [
    {
     "data": {
      "text/plain": [
       "array(['id', 'amount_tsh', 'date_recorded', 'funder', 'gps_height',\n",
       "       'installer', 'longitude', 'latitude', 'wpt_name', 'num_private',\n",
       "       'basin', 'subvillage', 'region', 'region_code', 'district_code',\n",
       "       'lga', 'ward', 'population', 'public_meeting', 'recorded_by',\n",
       "       'scheme_management', 'scheme_name', 'permit', 'construction_year',\n",
       "       'extraction_type', 'extraction_type_group',\n",
       "       'extraction_type_class', 'management', 'management_group',\n",
       "       'payment', 'payment_type', 'water_quality', 'quality_group',\n",
       "       'quantity', 'quantity_group', 'source', 'source_type',\n",
       "       'source_class', 'waterpoint_type', 'waterpoint_type_group'],\n",
       "      dtype=object)"
      ]
     },
     "execution_count": 5,
     "metadata": {},
     "output_type": "execute_result"
    }
   ],
   "source": [
    "x.columns.values"
   ]
  },
  {
   "cell_type": "code",
   "execution_count": 6,
   "metadata": {},
   "outputs": [],
   "source": [
    "x_train, x_test, y_train, y_test = train_test_split(x,y, test_size=.05)"
   ]
  },
  {
   "cell_type": "code",
   "execution_count": 7,
   "metadata": {},
   "outputs": [
    {
     "name": "stderr",
     "output_type": "stream",
     "text": [
      "C:\\Users\\cwcol\\Anaconda3\\lib\\site-packages\\ipykernel_launcher.py:3: DataConversionWarning: A column-vector y was passed when a 1d array was expected. Please change the shape of y to (n_samples, ), for example using ravel().\n",
      "  This is separate from the ipykernel package so we can avoid doing imports until\n"
     ]
    },
    {
     "data": {
      "text/plain": [
       "0.6811447811447812"
      ]
     },
     "execution_count": 7,
     "metadata": {},
     "output_type": "execute_result"
    }
   ],
   "source": [
    "from sklearn.neighbors import KNeighborsClassifier\n",
    "Kn = KNeighborsClassifier(n_neighbors=25,weights='distance')\n",
    "Kn.fit(x_train[[\"latitude\",\"longitude\"]],y_train)\n",
    "Kn.predict(x_train[[\"latitude\",\"longitude\"]])\n",
    "Kn.score(x_test[[\"latitude\",\"longitude\"]],y_test)"
   ]
  },
  {
   "cell_type": "code",
   "execution_count": 8,
   "metadata": {},
   "outputs": [],
   "source": [
    "k = Kn.kneighbors_graph(x_train[[\"latitude\",\"longitude\"]])"
   ]
  },
  {
   "cell_type": "code",
   "execution_count": 9,
   "metadata": {},
   "outputs": [
    {
     "data": {
      "text/plain": [
       "<56430x56430 sparse matrix of type '<class 'numpy.float64'>'\n",
       "\twith 1410750 stored elements in Compressed Sparse Row format>"
      ]
     },
     "execution_count": 9,
     "metadata": {},
     "output_type": "execute_result"
    }
   ],
   "source": [
    "k"
   ]
  },
  {
   "cell_type": "code",
   "execution_count": 10,
   "metadata": {
    "scrolled": true
   },
   "outputs": [],
   "source": [
    "j = Kn.predict_proba(x[[\"latitude\",\"longitude\"]])\n",
    "kn_predictions =pd.DataFrame(j)"
   ]
  },
  {
   "cell_type": "code",
   "execution_count": 11,
   "metadata": {},
   "outputs": [
    {
     "data": {
      "text/plain": [
       "0    0\n",
       "1    0\n",
       "2    0\n",
       "dtype: int64"
      ]
     },
     "execution_count": 11,
     "metadata": {},
     "output_type": "execute_result"
    }
   ],
   "source": [
    "kn_predictions.isna().sum()"
   ]
  },
  {
   "cell_type": "code",
   "execution_count": 12,
   "metadata": {},
   "outputs": [],
   "source": [
    "x[[\"k_0\",\"k_1\",\"k_2\"]] = kn_predictions"
   ]
  },
  {
   "cell_type": "code",
   "execution_count": 13,
   "metadata": {
    "scrolled": true
   },
   "outputs": [],
   "source": [
    "z = x[[\"funder\", \"installer\", \"permit\", \"scheme_management\",\"construction_year\",\"payment\",\"latitude\",\"longitude\",]]\n",
    "z = z.replace([0,\"unknown\"],np.nan)\n",
    "z = z.isna()\n",
    "z[\"poorly_documented\"] = False\n",
    "for i in z.columns.values:\n",
    "    z[\"poorly_documented\"] = (z[\"poorly_documented\"] | z[i])\n",
    "x[\"poorly_documented\"] = z[\"poorly_documented\"]"
   ]
  },
  {
   "cell_type": "code",
   "execution_count": 14,
   "metadata": {},
   "outputs": [],
   "source": [
    "cities = pd.read_csv(\"cities.csv\")"
   ]
  },
  {
   "cell_type": "code",
   "execution_count": 15,
   "metadata": {},
   "outputs": [
    {
     "data": {
      "text/plain": [
       "((59400, 12), (59400, 44))"
      ]
     },
     "execution_count": 15,
     "metadata": {},
     "output_type": "execute_result"
    }
   ],
   "source": [
    "cities.shape,x.shape"
   ]
  },
  {
   "cell_type": "code",
   "execution_count": 16,
   "metadata": {},
   "outputs": [],
   "source": [
    "x = x.set_index('id')\n",
    "cities = cities.set_index('id')"
   ]
  },
  {
   "cell_type": "code",
   "execution_count": 17,
   "metadata": {},
   "outputs": [],
   "source": [
    "x = x.join(cities, on='id' )"
   ]
  },
  {
   "cell_type": "code",
   "execution_count": 18,
   "metadata": {},
   "outputs": [
    {
     "data": {
      "text/plain": [
       "2000.0"
      ]
     },
     "execution_count": 18,
     "metadata": {},
     "output_type": "execute_result"
    }
   ],
   "source": [
    "z = x[(x[\"construction_year\"] >1000)].median()\n",
    "# x[\"construction_year\"] = x[\"construction_year\"].replace(0,z)\n",
    "# x[\"construction_year\"]\n",
    "z[\"construction_year\"]"
   ]
  },
  {
   "cell_type": "code",
   "execution_count": 19,
   "metadata": {},
   "outputs": [],
   "source": [
    "x[\"construction_year\"] = x[\"construction_year\"].replace(0,2000)"
   ]
  },
  {
   "cell_type": "code",
   "execution_count": 20,
   "metadata": {},
   "outputs": [
    {
     "data": {
      "text/plain": [
       "<matplotlib.axes._subplots.AxesSubplot at 0x29aaabc4b70>"
      ]
     },
     "execution_count": 20,
     "metadata": {},
     "output_type": "execute_result"
    },
    {
     "data": {
      "image/png": "[encoded data removed]",
      "text/plain": [
       "<Figure size 432x288 with 1 Axes>"
      ]
     },
     "metadata": {},
     "output_type": "display_data"
    }
   ],
   "source": [
    "sns.distplot(x[\"construction_year\"] )"
   ]
  },
  {
   "cell_type": "code",
   "execution_count": 21,
   "metadata": {},
   "outputs": [
    {
     "data": {
      "text/plain": [
       "<matplotlib.axes._subplots.AxesSubplot at 0x29aa3d68c18>"
      ]
     },
     "execution_count": 21,
     "metadata": {},
     "output_type": "execute_result"
    },
    {
     "data": {
      "image/png": "[encoded data removed]",
      "text/plain": [
       "<Figure size 432x288 with 1 Axes>"
      ]
     },
     "metadata": {},
     "output_type": "display_data"
    }
   ],
   "source": [
    "sns.distplot(x[\"gps_height\"])"
   ]
  },
  {
   "cell_type": "code",
   "execution_count": 22,
   "metadata": {},
   "outputs": [
    {
     "data": {
      "text/plain": [
       "-90"
      ]
     },
     "execution_count": 22,
     "metadata": {},
     "output_type": "execute_result"
    }
   ],
   "source": [
    "x[\"gps_height\"].min()"
   ]
  },
  {
   "cell_type": "code",
   "execution_count": 23,
   "metadata": {},
   "outputs": [],
   "source": [
    "top_installers =  x[\"installer\"].value_counts().head(100).index\n",
    "top_installers = list(top_installers)\n",
    "top_installers.remove('0')\n",
    "top_installers\n",
    "x[\"top_installer\"] = x[\"installer\"].apply(lambda x : x in top_installers)"
   ]
  },
  {
   "cell_type": "code",
   "execution_count": 24,
   "metadata": {},
   "outputs": [],
   "source": [
    "top_funder =  x[\"funder\"].value_counts().head(100).index\n",
    "top_funder = list(top_funder)\n",
    "top_funder.remove('0')\n",
    "top_funder\n",
    "x[\"top_funder\"] = x[\"funder\"].apply(lambda x : x in top_funder)"
   ]
  },
  {
   "cell_type": "code",
   "execution_count": null,
   "metadata": {},
   "outputs": [],
   "source": []
  },
  {
   "cell_type": "code",
   "execution_count": 25,
   "metadata": {},
   "outputs": [],
   "source": [
    "pd.set_option('display.max_columns', None)"
   ]
  },
  {
   "cell_type": "code",
   "execution_count": 26,
   "metadata": {},
   "outputs": [
    {
     "data": {
      "text/html": [
       "<div>\n",
       "<style scoped>\n",
       "    .dataframe tbody tr th:only-of-type {\n",
       "        vertical-align: middle;\n",
       "    }\n",
       "\n",
       "    .dataframe tbody tr th {\n",
       "        vertical-align: top;\n",
       "    }\n",
       "\n",
       "    .dataframe thead th {\n",
       "        text-align: right;\n",
       "    }\n",
       "</style>\n",
       "<table border=\"1\" class=\"dataframe\">\n",
       "  <thead>\n",
       "    <tr style=\"text-align: right;\">\n",
       "      <th></th>\n",
       "      <th>amount_tsh</th>\n",
       "      <th>date_recorded</th>\n",
       "      <th>funder</th>\n",
       "      <th>gps_height</th>\n",
       "      <th>installer</th>\n",
       "      <th>longitude</th>\n",
       "      <th>latitude</th>\n",
       "      <th>wpt_name</th>\n",
       "      <th>num_private</th>\n",
       "      <th>basin</th>\n",
       "      <th>subvillage</th>\n",
       "      <th>region</th>\n",
       "      <th>region_code</th>\n",
       "      <th>district_code</th>\n",
       "      <th>lga</th>\n",
       "      <th>ward</th>\n",
       "      <th>population</th>\n",
       "      <th>public_meeting</th>\n",
       "      <th>recorded_by</th>\n",
       "      <th>scheme_management</th>\n",
       "      <th>scheme_name</th>\n",
       "      <th>permit</th>\n",
       "      <th>construction_year</th>\n",
       "      <th>extraction_type</th>\n",
       "      <th>extraction_type_group</th>\n",
       "      <th>extraction_type_class</th>\n",
       "      <th>management</th>\n",
       "      <th>management_group</th>\n",
       "      <th>payment</th>\n",
       "      <th>payment_type</th>\n",
       "      <th>water_quality</th>\n",
       "      <th>quality_group</th>\n",
       "      <th>quantity</th>\n",
       "      <th>quantity_group</th>\n",
       "      <th>source</th>\n",
       "      <th>source_type</th>\n",
       "      <th>source_class</th>\n",
       "      <th>waterpoint_type</th>\n",
       "      <th>waterpoint_type_group</th>\n",
       "      <th>k_0</th>\n",
       "      <th>k_1</th>\n",
       "      <th>k_2</th>\n",
       "      <th>poorly_documented</th>\n",
       "      <th>distance_to_nearest_city</th>\n",
       "      <th>dar_es_salaam</th>\n",
       "      <th>mwanza</th>\n",
       "      <th>arusha</th>\n",
       "      <th>dodoma</th>\n",
       "      <th>mbeya</th>\n",
       "      <th>morongoro</th>\n",
       "      <th>tanga</th>\n",
       "      <th>kahama</th>\n",
       "      <th>tabora</th>\n",
       "      <th>zanzibar</th>\n",
       "      <th>top_installer</th>\n",
       "      <th>top_funder</th>\n",
       "    </tr>\n",
       "    <tr>\n",
       "      <th>id</th>\n",
       "      <th></th>\n",
       "      <th></th>\n",
       "      <th></th>\n",
       "      <th></th>\n",
       "      <th></th>\n",
       "      <th></th>\n",
       "      <th></th>\n",
       "      <th></th>\n",
       "      <th></th>\n",
       "      <th></th>\n",
       "      <th></th>\n",
       "      <th></th>\n",
       "      <th></th>\n",
       "      <th></th>\n",
       "      <th></th>\n",
       "      <th></th>\n",
       "      <th></th>\n",
       "      <th></th>\n",
       "      <th></th>\n",
       "      <th></th>\n",
       "      <th></th>\n",
       "      <th></th>\n",
       "      <th></th>\n",
       "      <th></th>\n",
       "      <th></th>\n",
       "      <th></th>\n",
       "      <th></th>\n",
       "      <th></th>\n",
       "      <th></th>\n",
       "      <th></th>\n",
       "      <th></th>\n",
       "      <th></th>\n",
       "      <th></th>\n",
       "      <th></th>\n",
       "      <th></th>\n",
       "      <th></th>\n",
       "      <th></th>\n",
       "      <th></th>\n",
       "      <th></th>\n",
       "      <th></th>\n",
       "      <th></th>\n",
       "      <th></th>\n",
       "      <th></th>\n",
       "      <th></th>\n",
       "      <th></th>\n",
       "      <th></th>\n",
       "      <th></th>\n",
       "      <th></th>\n",
       "      <th></th>\n",
       "      <th></th>\n",
       "      <th></th>\n",
       "      <th></th>\n",
       "      <th></th>\n",
       "      <th></th>\n",
       "      <th></th>\n",
       "      <th></th>\n",
       "    </tr>\n",
       "  </thead>\n",
       "  <tbody>\n",
       "    <tr>\n",
       "      <th>69572</th>\n",
       "      <td>6000.0</td>\n",
       "      <td>2011-03-14</td>\n",
       "      <td>Roman</td>\n",
       "      <td>1390</td>\n",
       "      <td>Roman</td>\n",
       "      <td>34.938093</td>\n",
       "      <td>-9.856322</td>\n",
       "      <td>none</td>\n",
       "      <td>0</td>\n",
       "      <td>Lake Nyasa</td>\n",
       "      <td>Mnyusi B</td>\n",
       "      <td>Iringa</td>\n",
       "      <td>11</td>\n",
       "      <td>5</td>\n",
       "      <td>Ludewa</td>\n",
       "      <td>Mundindi</td>\n",
       "      <td>109</td>\n",
       "      <td>True</td>\n",
       "      <td>GeoData Consultants Ltd</td>\n",
       "      <td>VWC</td>\n",
       "      <td>Roman</td>\n",
       "      <td>False</td>\n",
       "      <td>1999</td>\n",
       "      <td>gravity</td>\n",
       "      <td>gravity</td>\n",
       "      <td>gravity</td>\n",
       "      <td>vwc</td>\n",
       "      <td>user-group</td>\n",
       "      <td>pay annually</td>\n",
       "      <td>annually</td>\n",
       "      <td>soft</td>\n",
       "      <td>good</td>\n",
       "      <td>enough</td>\n",
       "      <td>enough</td>\n",
       "      <td>spring</td>\n",
       "      <td>spring</td>\n",
       "      <td>groundwater</td>\n",
       "      <td>communal standpipe</td>\n",
       "      <td>communal standpipe</td>\n",
       "      <td>1.0</td>\n",
       "      <td>0.0</td>\n",
       "      <td>0.0</td>\n",
       "      <td>True</td>\n",
       "      <td>1.768890</td>\n",
       "      <td>5.312456</td>\n",
       "      <td>7.617372</td>\n",
       "      <td>6.720229</td>\n",
       "      <td>3.769963</td>\n",
       "      <td>1.768890</td>\n",
       "      <td>4.084683</td>\n",
       "      <td>6.345256</td>\n",
       "      <td>6.457003</td>\n",
       "      <td>5.290907</td>\n",
       "      <td>5.637481</td>\n",
       "      <td>True</td>\n",
       "      <td>True</td>\n",
       "    </tr>\n",
       "    <tr>\n",
       "      <th>8776</th>\n",
       "      <td>0.0</td>\n",
       "      <td>2013-03-06</td>\n",
       "      <td>Grumeti</td>\n",
       "      <td>1399</td>\n",
       "      <td>GRUMETI</td>\n",
       "      <td>34.698766</td>\n",
       "      <td>-2.147466</td>\n",
       "      <td>Zahanati</td>\n",
       "      <td>0</td>\n",
       "      <td>Lake Victoria</td>\n",
       "      <td>Nyamara</td>\n",
       "      <td>Mara</td>\n",
       "      <td>20</td>\n",
       "      <td>2</td>\n",
       "      <td>Serengeti</td>\n",
       "      <td>Natta</td>\n",
       "      <td>280</td>\n",
       "      <td>NaN</td>\n",
       "      <td>GeoData Consultants Ltd</td>\n",
       "      <td>Other</td>\n",
       "      <td>NaN</td>\n",
       "      <td>True</td>\n",
       "      <td>2010</td>\n",
       "      <td>gravity</td>\n",
       "      <td>gravity</td>\n",
       "      <td>gravity</td>\n",
       "      <td>wug</td>\n",
       "      <td>user-group</td>\n",
       "      <td>never pay</td>\n",
       "      <td>never pay</td>\n",
       "      <td>soft</td>\n",
       "      <td>good</td>\n",
       "      <td>insufficient</td>\n",
       "      <td>insufficient</td>\n",
       "      <td>rainwater harvesting</td>\n",
       "      <td>rainwater harvesting</td>\n",
       "      <td>surface</td>\n",
       "      <td>communal standpipe</td>\n",
       "      <td>communal standpipe</td>\n",
       "      <td>1.0</td>\n",
       "      <td>0.0</td>\n",
       "      <td>0.0</td>\n",
       "      <td>False</td>\n",
       "      <td>1.836265</td>\n",
       "      <td>6.531792</td>\n",
       "      <td>1.836265</td>\n",
       "      <td>2.329154</td>\n",
       "      <td>4.158557</td>\n",
       "      <td>6.867033</td>\n",
       "      <td>5.532621</td>\n",
       "      <td>5.281344</td>\n",
       "      <td>2.694631</td>\n",
       "      <td>3.440586</td>\n",
       "      <td>6.032635</td>\n",
       "      <td>False</td>\n",
       "      <td>False</td>\n",
       "    </tr>\n",
       "    <tr>\n",
       "      <th>34310</th>\n",
       "      <td>25.0</td>\n",
       "      <td>2013-02-25</td>\n",
       "      <td>Lottery Club</td>\n",
       "      <td>686</td>\n",
       "      <td>World vision</td>\n",
       "      <td>37.460664</td>\n",
       "      <td>-3.821329</td>\n",
       "      <td>Kwa Mahundi</td>\n",
       "      <td>0</td>\n",
       "      <td>Pangani</td>\n",
       "      <td>Majengo</td>\n",
       "      <td>Manyara</td>\n",
       "      <td>21</td>\n",
       "      <td>4</td>\n",
       "      <td>Simanjiro</td>\n",
       "      <td>Ngorika</td>\n",
       "      <td>250</td>\n",
       "      <td>True</td>\n",
       "      <td>GeoData Consultants Ltd</td>\n",
       "      <td>VWC</td>\n",
       "      <td>Nyumba ya mungu pipe scheme</td>\n",
       "      <td>True</td>\n",
       "      <td>2009</td>\n",
       "      <td>gravity</td>\n",
       "      <td>gravity</td>\n",
       "      <td>gravity</td>\n",
       "      <td>vwc</td>\n",
       "      <td>user-group</td>\n",
       "      <td>pay per bucket</td>\n",
       "      <td>per bucket</td>\n",
       "      <td>soft</td>\n",
       "      <td>good</td>\n",
       "      <td>enough</td>\n",
       "      <td>enough</td>\n",
       "      <td>dam</td>\n",
       "      <td>dam</td>\n",
       "      <td>surface</td>\n",
       "      <td>communal standpipe multiple</td>\n",
       "      <td>communal standpipe</td>\n",
       "      <td>1.0</td>\n",
       "      <td>0.0</td>\n",
       "      <td>0.0</td>\n",
       "      <td>False</td>\n",
       "      <td>0.900534</td>\n",
       "      <td>3.492076</td>\n",
       "      <td>4.743606</td>\n",
       "      <td>0.900534</td>\n",
       "      <td>2.912837</td>\n",
       "      <td>6.471347</td>\n",
       "      <td>3.002414</td>\n",
       "      <td>2.058710</td>\n",
       "      <td>4.860691</td>\n",
       "      <td>4.811510</td>\n",
       "      <td>2.917980</td>\n",
       "      <td>True</td>\n",
       "      <td>False</td>\n",
       "    </tr>\n",
       "    <tr>\n",
       "      <th>67743</th>\n",
       "      <td>0.0</td>\n",
       "      <td>2013-01-28</td>\n",
       "      <td>Unicef</td>\n",
       "      <td>263</td>\n",
       "      <td>UNICEF</td>\n",
       "      <td>38.486161</td>\n",
       "      <td>-11.155298</td>\n",
       "      <td>Zahanati Ya Nanyumbu</td>\n",
       "      <td>0</td>\n",
       "      <td>Ruvuma / Southern Coast</td>\n",
       "      <td>Mahakamani</td>\n",
       "      <td>Mtwara</td>\n",
       "      <td>90</td>\n",
       "      <td>63</td>\n",
       "      <td>Nanyumbu</td>\n",
       "      <td>Nanyumbu</td>\n",
       "      <td>58</td>\n",
       "      <td>True</td>\n",
       "      <td>GeoData Consultants Ltd</td>\n",
       "      <td>VWC</td>\n",
       "      <td>NaN</td>\n",
       "      <td>True</td>\n",
       "      <td>1986</td>\n",
       "      <td>submersible</td>\n",
       "      <td>submersible</td>\n",
       "      <td>submersible</td>\n",
       "      <td>vwc</td>\n",
       "      <td>user-group</td>\n",
       "      <td>never pay</td>\n",
       "      <td>never pay</td>\n",
       "      <td>soft</td>\n",
       "      <td>good</td>\n",
       "      <td>dry</td>\n",
       "      <td>dry</td>\n",
       "      <td>machine dbh</td>\n",
       "      <td>borehole</td>\n",
       "      <td>groundwater</td>\n",
       "      <td>communal standpipe multiple</td>\n",
       "      <td>communal standpipe</td>\n",
       "      <td>0.0</td>\n",
       "      <td>0.0</td>\n",
       "      <td>1.0</td>\n",
       "      <td>False</td>\n",
       "      <td>4.415346</td>\n",
       "      <td>4.427651</td>\n",
       "      <td>10.287426</td>\n",
       "      <td>7.994558</td>\n",
       "      <td>5.688010</td>\n",
       "      <td>5.518087</td>\n",
       "      <td>4.415346</td>\n",
       "      <td>6.119496</td>\n",
       "      <td>9.391329</td>\n",
       "      <td>8.367509</td>\n",
       "      <td>5.040953</td>\n",
       "      <td>True</td>\n",
       "      <td>True</td>\n",
       "    </tr>\n",
       "    <tr>\n",
       "      <th>19728</th>\n",
       "      <td>0.0</td>\n",
       "      <td>2011-07-13</td>\n",
       "      <td>Action In A</td>\n",
       "      <td>0</td>\n",
       "      <td>Artisan</td>\n",
       "      <td>31.130847</td>\n",
       "      <td>-1.825359</td>\n",
       "      <td>Shuleni</td>\n",
       "      <td>0</td>\n",
       "      <td>Lake Victoria</td>\n",
       "      <td>Kyanyamisa</td>\n",
       "      <td>Kagera</td>\n",
       "      <td>18</td>\n",
       "      <td>1</td>\n",
       "      <td>Karagwe</td>\n",
       "      <td>Nyakasimbi</td>\n",
       "      <td>0</td>\n",
       "      <td>True</td>\n",
       "      <td>GeoData Consultants Ltd</td>\n",
       "      <td>NaN</td>\n",
       "      <td>NaN</td>\n",
       "      <td>True</td>\n",
       "      <td>2000</td>\n",
       "      <td>gravity</td>\n",
       "      <td>gravity</td>\n",
       "      <td>gravity</td>\n",
       "      <td>other</td>\n",
       "      <td>other</td>\n",
       "      <td>never pay</td>\n",
       "      <td>never pay</td>\n",
       "      <td>soft</td>\n",
       "      <td>good</td>\n",
       "      <td>seasonal</td>\n",
       "      <td>seasonal</td>\n",
       "      <td>rainwater harvesting</td>\n",
       "      <td>rainwater harvesting</td>\n",
       "      <td>surface</td>\n",
       "      <td>communal standpipe</td>\n",
       "      <td>communal standpipe</td>\n",
       "      <td>1.0</td>\n",
       "      <td>0.0</td>\n",
       "      <td>0.0</td>\n",
       "      <td>True</td>\n",
       "      <td>1.899424</td>\n",
       "      <td>9.550395</td>\n",
       "      <td>1.899424</td>\n",
       "      <td>5.762442</td>\n",
       "      <td>6.337562</td>\n",
       "      <td>7.445067</td>\n",
       "      <td>8.223755</td>\n",
       "      <td>8.603109</td>\n",
       "      <td>2.491410</td>\n",
       "      <td>3.601461</td>\n",
       "      <td>9.161200</td>\n",
       "      <td>True</td>\n",
       "      <td>False</td>\n",
       "    </tr>\n",
       "  </tbody>\n",
       "</table>\n",
       "</div>"
      ],
      "text/plain": [
       "       amount_tsh date_recorded        funder  gps_height     installer  \\\n",
       "id                                                                        \n",
       "69572      6000.0    2011-03-14         Roman        1390         Roman   \n",
       "8776          0.0    2013-03-06       Grumeti        1399       GRUMETI   \n",
       "34310        25.0    2013-02-25  Lottery Club         686  World vision   \n",
       "67743         0.0    2013-01-28        Unicef         263        UNICEF   \n",
       "19728         0.0    2011-07-13   Action In A           0       Artisan   \n",
       "\n",
       "       longitude   latitude              wpt_name  num_private  \\\n",
       "id                                                               \n",
       "69572  34.938093  -9.856322                  none            0   \n",
       "8776   34.698766  -2.147466              Zahanati            0   \n",
       "34310  37.460664  -3.821329           Kwa Mahundi            0   \n",
       "67743  38.486161 -11.155298  Zahanati Ya Nanyumbu            0   \n",
       "19728  31.130847  -1.825359               Shuleni            0   \n",
       "\n",
       "                         basin  subvillage   region  region_code  \\\n",
       "id                                                                 \n",
       "69572               Lake Nyasa    Mnyusi B   Iringa           11   \n",
       "8776             Lake Victoria     Nyamara     Mara           20   \n",
       "34310                  Pangani     Majengo  Manyara           21   \n",
       "67743  Ruvuma / Southern Coast  Mahakamani   Mtwara           90   \n",
       "19728            Lake Victoria  Kyanyamisa   Kagera           18   \n",
       "\n",
       "       district_code        lga        ward  population public_meeting  \\\n",
       "id                                                                       \n",
       "69572              5     Ludewa    Mundindi         109           True   \n",
       "8776               2  Serengeti       Natta         280            NaN   \n",
       "34310              4  Simanjiro     Ngorika         250           True   \n",
       "67743             63   Nanyumbu    Nanyumbu          58           True   \n",
       "19728              1    Karagwe  Nyakasimbi           0           True   \n",
       "\n",
       "                   recorded_by scheme_management                  scheme_name  \\\n",
       "id                                                                              \n",
       "69572  GeoData Consultants Ltd               VWC                        Roman   \n",
       "8776   GeoData Consultants Ltd             Other                          NaN   \n",
       "34310  GeoData Consultants Ltd               VWC  Nyumba ya mungu pipe scheme   \n",
       "67743  GeoData Consultants Ltd               VWC                          NaN   \n",
       "19728  GeoData Consultants Ltd               NaN                          NaN   \n",
       "\n",
       "      permit  construction_year extraction_type extraction_type_group  \\\n",
       "id                                                                      \n",
       "69572  False               1999         gravity               gravity   \n",
       "8776    True               2010         gravity               gravity   \n",
       "34310   True               2009         gravity               gravity   \n",
       "67743   True               1986     submersible           submersible   \n",
       "19728   True               2000         gravity               gravity   \n",
       "\n",
       "      extraction_type_class management management_group         payment  \\\n",
       "id                                                                        \n",
       "69572               gravity        vwc       user-group    pay annually   \n",
       "8776                gravity        wug       user-group       never pay   \n",
       "34310               gravity        vwc       user-group  pay per bucket   \n",
       "67743           submersible        vwc       user-group       never pay   \n",
       "19728               gravity      other            other       never pay   \n",
       "\n",
       "      payment_type water_quality quality_group      quantity quantity_group  \\\n",
       "id                                                                            \n",
       "69572     annually          soft          good        enough         enough   \n",
       "8776     never pay          soft          good  insufficient   insufficient   \n",
       "34310   per bucket          soft          good        enough         enough   \n",
       "67743    never pay          soft          good           dry            dry   \n",
       "19728    never pay          soft          good      seasonal       seasonal   \n",
       "\n",
       "                     source           source_type source_class  \\\n",
       "id                                                               \n",
       "69572                spring                spring  groundwater   \n",
       "8776   rainwater harvesting  rainwater harvesting      surface   \n",
       "34310                   dam                   dam      surface   \n",
       "67743           machine dbh              borehole  groundwater   \n",
       "19728  rainwater harvesting  rainwater harvesting      surface   \n",
       "\n",
       "                   waterpoint_type waterpoint_type_group  k_0  k_1  k_2  \\\n",
       "id                                                                        \n",
       "69572           communal standpipe    communal standpipe  1.0  0.0  0.0   \n",
       "8776            communal standpipe    communal standpipe  1.0  0.0  0.0   \n",
       "34310  communal standpipe multiple    communal standpipe  1.0  0.0  0.0   \n",
       "67743  communal standpipe multiple    communal standpipe  0.0  0.0  1.0   \n",
       "19728           communal standpipe    communal standpipe  1.0  0.0  0.0   \n",
       "\n",
       "       poorly_documented  distance_to_nearest_city  dar_es_salaam     mwanza  \\\n",
       "id                                                                             \n",
       "69572               True                  1.768890       5.312456   7.617372   \n",
       "8776               False                  1.836265       6.531792   1.836265   \n",
       "34310              False                  0.900534       3.492076   4.743606   \n",
       "67743              False                  4.415346       4.427651  10.287426   \n",
       "19728               True                  1.899424       9.550395   1.899424   \n",
       "\n",
       "         arusha    dodoma     mbeya  morongoro     tanga    kahama    tabora  \\\n",
       "id                                                                             \n",
       "69572  6.720229  3.769963  1.768890   4.084683  6.345256  6.457003  5.290907   \n",
       "8776   2.329154  4.158557  6.867033   5.532621  5.281344  2.694631  3.440586   \n",
       "34310  0.900534  2.912837  6.471347   3.002414  2.058710  4.860691  4.811510   \n",
       "67743  7.994558  5.688010  5.518087   4.415346  6.119496  9.391329  8.367509   \n",
       "19728  5.762442  6.337562  7.445067   8.223755  8.603109  2.491410  3.601461   \n",
       "\n",
       "       zanzibar  top_installer  top_funder  \n",
       "id                                          \n",
       "69572  5.637481           True        True  \n",
       "8776   6.032635          False       False  \n",
       "34310  2.917980           True       False  \n",
       "67743  5.040953           True        True  \n",
       "19728  9.161200           True       False  "
      ]
     },
     "execution_count": 26,
     "metadata": {},
     "output_type": "execute_result"
    }
   ],
   "source": [
    "x.head()"
   ]
  },
  {
   "cell_type": "code",
   "execution_count": 27,
   "metadata": {},
   "outputs": [
    {
     "data": {
      "text/plain": [
       "5"
      ]
     },
     "execution_count": 27,
     "metadata": {},
     "output_type": "execute_result"
    }
   ],
   "source": [
    "len(x_train[\"management_group\"].unique())"
   ]
  },
  {
   "cell_type": "code",
   "execution_count": 28,
   "metadata": {},
   "outputs": [
    {
     "data": {
      "text/plain": [
       "<matplotlib.collections.PathCollection at 0x29aa44f4fd0>"
      ]
     },
     "execution_count": 28,
     "metadata": {},
     "output_type": "execute_result"
    },
    {
     "data": {
      "image/png": "[encoded data removed]",
      "text/plain": [
       "<Figure size 432x288 with 1 Axes>"
      ]
     },
     "metadata": {},
     "output_type": "display_data"
    }
   ],
   "source": [
    "a = x_train[[\"longitude\",\"latitude\"]]\n",
    "a = a.replace(0,np.nan)\n",
    "a = a.dropna()\n",
    "plt.scatter(a[\"latitude\"],a[\"longitude\"])"
   ]
  },
  {
   "cell_type": "code",
   "execution_count": 29,
   "metadata": {},
   "outputs": [
    {
     "data": {
      "text/plain": [
       "<matplotlib.collections.PathCollection at 0x29aa4517518>"
      ]
     },
     "execution_count": 29,
     "metadata": {},
     "output_type": "execute_result"
    },
    {
     "data": {
      "image/png": "[encoded data removed]",
      "text/plain": [
       "<Figure size 432x288 with 1 Axes>"
      ]
     },
     "metadata": {},
     "output_type": "display_data"
    }
   ],
   "source": [
    "a = x_train[[\"longitude\",\"latitude\"]]\n",
    "a = a.replace(0,np.nan)\n",
    "a = a.dropna()\n",
    "\n",
    "pca = PCA(2)\n",
    "p = pca.fit_transform(RobustScaler().fit_transform(a[[\"longitude\",\"latitude\"]]))\n",
    "plt.scatter(p.T[0],p.T[1])"
   ]
  },
  {
   "cell_type": "code",
   "execution_count": null,
   "metadata": {},
   "outputs": [],
   "source": [
    "\n",
    "sns.relplot(x = \"latitude\",y= \"longitude\",data=a)"
   ]
  },
  {
   "cell_type": "code",
   "execution_count": null,
   "metadata": {},
   "outputs": [],
   "source": []
  },
  {
   "cell_type": "code",
   "execution_count": 29,
   "metadata": {},
   "outputs": [],
   "source": [
    "x[\"year_recorded\"] = x[\"date_recorded\"].apply(lambda x: int(x[:4]))\n"
   ]
  },
  {
   "cell_type": "markdown",
   "metadata": {},
   "source": [
    "# Year recorded made results worse?"
   ]
  },
  {
   "cell_type": "code",
   "execution_count": 35,
   "metadata": {},
   "outputs": [],
   "source": [
    "x_train, x_test, y_train, y_test = train_test_split(x,y, test_size=.05)"
   ]
  },
  {
   "cell_type": "code",
   "execution_count": null,
   "metadata": {},
   "outputs": [],
   "source": [
    "cols=[\"funder\",\"installer\",\"wpt_name\",\"basin\",\"subvillage\",\"region\",\"lga\",\"ward\",\"public_meeting\",\"scheme_management\"\\\n",
    "     ,\"scheme_name\",\"extraction_type\",\"extraction_type_group\",\"extraction_type_class\",\"management\",\"payment\", \"payment_type\",\\\n",
    "     \"water_quality\",\"quality_group\",\"quantity\",\"quantity_group\",\"source\",\"source_type\",\"source_class\",\\\n",
    "      \"waterpoint_type\",\"waterpoint_type_group\"]"
   ]
  },
  {
   "cell_type": "code",
   "execution_count": null,
   "metadata": {},
   "outputs": [],
   "source": [
    "len(x_train[\"recorded_by\"].unique())"
   ]
  },
  {
   "cell_type": "code",
   "execution_count": null,
   "metadata": {},
   "outputs": [],
   "source": [
    "sns.distplot(x_train[\"num_private\"])"
   ]
  },
  {
   "cell_type": "code",
   "execution_count": null,
   "metadata": {
    "scrolled": true
   },
   "outputs": [],
   "source": []
  },
  {
   "cell_type": "code",
   "execution_count": null,
   "metadata": {},
   "outputs": [],
   "source": []
  },
  {
   "cell_type": "code",
   "execution_count": 30,
   "metadata": {},
   "outputs": [
    {
     "data": {
      "text/plain": [
       "<matplotlib.axes._subplots.AxesSubplot at 0x29aa4531240>"
      ]
     },
     "execution_count": 30,
     "metadata": {},
     "output_type": "execute_result"
    },
    {
     "data": {
      "image/png": "[encoded data removed]",
      "text/plain": [
       "<Figure size 432x288 with 1 Axes>"
      ]
     },
     "metadata": {},
     "output_type": "display_data"
    }
   ],
   "source": [
    "a = x_train[\"population\"]\n",
    "a =a.replace(0,a.mean())\n",
    "a = np.log(a)\n",
    "sns.distplot(a)"
   ]
  },
  {
   "cell_type": "code",
   "execution_count": null,
   "metadata": {},
   "outputs": [],
   "source": [
    "col_solo = [\"amount_tsh\"]"
   ]
  },
  {
   "cell_type": "code",
   "execution_count": null,
   "metadata": {},
   "outputs": [],
   "source": [
    "pipeline = make_pipeline(\n",
    "LogisticRegression()\n",
    ")"
   ]
  },
  {
   "cell_type": "code",
   "execution_count": null,
   "metadata": {},
   "outputs": [],
   "source": [
    "pipeline.fit(x_train[col_solo],y_train)\n",
    "y_pred = pipeline.predict(x_test[col_solo])\n",
    "accuracy_score(y_test,y_pred)"
   ]
  },
  {
   "cell_type": "markdown",
   "metadata": {},
   "source": [
    "# Best model"
   ]
  },
  {
   "cell_type": "code",
   "execution_count": 36,
   "metadata": {},
   "outputs": [],
   "source": [
    "c = [\"basin\",\"region\",\"region_code\",\"district_code\",\"scheme_management\",\"extraction_type\",\"management\",\\\n",
    "         \"extraction_type_group\",\"quantity_group\", \"payment\", \"waterpoint_type\",\"water_quality\",\"quality_group\",\"public_meeting\"\\\n",
    "        ,\"lga\",\"poorly_documented\",\"source\",\"source_class\",\"0\",\"1\",\"2\"]"
   ]
  },
  {
   "cell_type": "code",
   "execution_count": 37,
   "metadata": {},
   "outputs": [],
   "source": [
    "class_weights = {'functional':1,'non functional':1.2,'functional needs repair':1}"
   ]
  },
  {
   "cell_type": "code",
   "execution_count": 38,
   "metadata": {},
   "outputs": [],
   "source": [
    "c = [\"basin\",\"region\",\"region_code\",\"district_code\",\"scheme_management\",\"extraction_type\",\"management\",\\\n",
    "         \"extraction_type_group\",\"quantity_group\", \"payment\", \"waterpoint_type\",\"water_quality\",\"quality_group\",\"public_meeting\"\\\n",
    "        ,\"lga\",\"poorly_documented\",\"source\",\"source_class\",\"extraction_type_class\", \"top_installer\",\"management_group\",\\\n",
    "         \"top_funder\",\"distance_to_nearest_city\", 'gps_height',\"population\",\"construction_year\"]\n"
   ]
  },
  {
   "cell_type": "code",
   "execution_count": 39,
   "metadata": {},
   "outputs": [
    {
     "name": "stderr",
     "output_type": "stream",
     "text": [
      "C:\\Users\\cwcol\\Anaconda3\\lib\\site-packages\\sklearn\\utils\\validation.py:761: DataConversionWarning: A column-vector y was passed when a 1d array was expected. Please change the shape of y to (n_samples, ), for example using ravel().\n",
      "  y = column_or_1d(y, warn=True)\n",
      "C:\\Users\\cwcol\\Anaconda3\\lib\\site-packages\\sklearn\\linear_model\\logistic.py:460: FutureWarning: Default multi_class will be changed to 'auto' in 0.22. Specify the multi_class option to silence this warning.\n",
      "  \"this warning.\", FutureWarning)\n",
      "C:\\Users\\cwcol\\Anaconda3\\lib\\site-packages\\sklearn\\linear_model\\logistic.py:758: ConvergenceWarning: lbfgs failed to converge. Increase the number of iterations.\n",
      "  \"of iterations.\", ConvergenceWarning)\n",
      "C:\\Users\\cwcol\\Anaconda3\\lib\\site-packages\\sklearn\\linear_model\\logistic.py:758: ConvergenceWarning: lbfgs failed to converge. Increase the number of iterations.\n",
      "  \"of iterations.\", ConvergenceWarning)\n",
      "C:\\Users\\cwcol\\Anaconda3\\lib\\site-packages\\sklearn\\linear_model\\logistic.py:758: ConvergenceWarning: lbfgs failed to converge. Increase the number of iterations.\n",
      "  \"of iterations.\", ConvergenceWarning)\n"
     ]
    },
    {
     "data": {
      "text/plain": [
       "0.7430976430976431"
      ]
     },
     "execution_count": 39,
     "metadata": {},
     "output_type": "execute_result"
    }
   ],
   "source": [
    "cols1 = [\"basin\",\"region\",\"region_code\",\"district_code\",\"scheme_management\",\"extraction_type\",\"management\",\\\n",
    "         \"extraction_type_group\",\"quantity_group\", \"payment\", \"waterpoint_type\",\"water_quality\",\"quality_group\",\\\n",
    "         \"public_meeting\",\"lga\",\"poorly_documented\",\"source\",\"source_class\",\"extraction_type_class\", \\\n",
    "         \"top_installer\",\"management_group\", \"top_funder\"]\n",
    "pipeline = make_pipeline(\n",
    "ce.OneHotEncoder(cols = cols1,use_cat_names=True),\n",
    "    RobustScaler(),\n",
    "    PCA(349),\n",
    "LogisticRegression(solver='lbfgs',class_weight=class_weights)\n",
    ")\n",
    "pipeline.fit(x_train[c],y_train)\n",
    "y_pred = pipeline.predict(x_test[c])\n",
    "accuracy_score(y_test,y_pred)"
   ]
  },
  {
   "cell_type": "code",
   "execution_count": null,
   "metadata": {},
   "outputs": [],
   "source": [
    "c1 = [\"basin\",\"region\",\"region_code\",\"district_code\",\"scheme_management\",\"extraction_type\",\"management\",\\\n",
    "         \"extraction_type_group\",\"quantity_group\", \"payment\", \"waterpoint_type\",\"water_quality\",\"quality_group\",\"public_meeting\"\\\n",
    "        ,\"lga\",\"poorly_documented\",\"source\",\"source_class\",\"extraction_type_class\", \"top_installer\",\"management_group\",\\\n",
    "         \"top_funder\",\"distance_to_nearest_city\", 'gps_height',\"population\",\"construction_year\",\"year_recorded\"\\\n",
    "     \"latitude\",\"longitude\"]\n",
    "\n",
    "cols1 = [\"basin\",\"region\",\"region_code\",\"district_code\",\"scheme_management\",\"extraction_type\",\"management\",\\\n",
    "         \"extraction_type_group\",\"quantity_group\", \"payment\", \"waterpoint_type\",\"water_quality\",\"quality_group\",\\\n",
    "         \"public_meeting\",\"lga\",\"poorly_documented\",\"source\",\"source_class\",\"extraction_type_class\", \\\n",
    "         \"top_installer\",\"management_group\", \"top_funder\"]\n",
    "pipeline = make_pipeline(\n",
    "ce.OneHotEncoder(cols = cols1,use_cat_names=True),\n",
    "    RobustScaler(),\n",
    "    PCA(349),\n",
    "    KNeighborsClassifier(n_neighbors=20,weights='distance')\n",
    ")\n",
    "pipeline.fit(x_train[c],y_train)\n",
    "y_pred = pipeline.predict(x_test[c])\n",
    "accuracy_score(y_test,y_pred)"
   ]
  },
  {
   "cell_type": "code",
   "execution_count": null,
   "metadata": {},
   "outputs": [],
   "source": [
    "weights = ['uniform','distance']\n",
    "param_grid = {'kneighborsclassifier__weights' :weights,\n",
    "              \"kneighborsclassifier__n_neighbors\" : [1,2,5,10,15,20,25,30,35]\n",
    "             }\n",
    "\n",
    "\n",
    "c1 = [\"basin\",\"region\",\"region_code\",\"district_code\",\"scheme_management\",\"extraction_type\",\"management\",\\\n",
    "         \"extraction_type_group\",\"quantity_group\", \"payment\", \"waterpoint_type\",\"water_quality\",\"quality_group\",\"public_meeting\"\\\n",
    "        ,\"lga\",\"poorly_documented\",\"source\",\"source_class\",\"extraction_type_class\", \"top_installer\",\"management_group\",\\\n",
    "         \"top_funder\",\"distance_to_nearest_city\", 'gps_height',\"population\",\"construction_year\",\"year_recorded\",\\\n",
    "     \"latitude\",\"longitude\"]\n",
    "\n",
    "cols1 = [\"basin\",\"region\",\"region_code\",\"district_code\",\"scheme_management\",\"extraction_type\",\"management\",\\\n",
    "         \"extraction_type_group\",\"quantity_group\", \"payment\", \"waterpoint_type\",\"water_quality\",\"quality_group\",\\\n",
    "         \"public_meeting\",\"lga\",\"poorly_documented\",\"source\",\"source_class\",\"extraction_type_class\", \\\n",
    "         \"top_installer\",\"management_group\", \"top_funder\"]\n",
    "pipeline = make_pipeline(\n",
    "    ce.OneHotEncoder(cols = cols1,use_cat_names=True),\n",
    "    RobustScaler(),\n",
    "    PCA(349),\n",
    "    KNeighborsClassifier(n_neighbors=25,weights='distance')\n",
    ")\n",
    "#pipeline.fit(x_train[c],y_train)\n",
    "#y_pred = pipeline.predict(x_test[c])\n",
    "\n",
    "gs = GridSearchCV(pipeline, param_grid=param_grid, cv=3, scoring ='accuracy')\n",
    "gs.fit(x_train[c1],y_train.values.ravel())"
   ]
  },
  {
   "cell_type": "code",
   "execution_count": null,
   "metadata": {},
   "outputs": [],
   "source": [
    "gs.best_params_"
   ]
  },
  {
   "cell_type": "code",
   "execution_count": null,
   "metadata": {},
   "outputs": [],
   "source": [
    "c1 = [\"basin\",\"region\",\"region_code\",\"district_code\",\"scheme_management\",\"extraction_type\",\"management\",\\\n",
    "         \"extraction_type_group\",\"quantity_group\", \"payment\", \"waterpoint_type\",\"water_quality\",\"quality_group\",\"public_meeting\"\\\n",
    "        ,\"lga\",\"source\",\"source_class\",\"extraction_type_class\", \"top_installer\",\"management_group\",\\\n",
    "         \"top_funder\", 'gps_height',\"population\",\"construction_year\",\\\n",
    "     \"latitude\",\"longitude\"]\n",
    "cols1 = [\"basin\",\"region\",\"region_code\",\"district_code\",\"scheme_management\",\"extraction_type\",\"management\",\\\n",
    "         \"extraction_type_group\",\"quantity_group\", \"payment\", \"waterpoint_type\",\"water_quality\",\"quality_group\",\"public_meeting\"\\\n",
    "        ,\"lga\",\"source\",\"source_class\",\"extraction_type_class\", \"top_installer\",\"management_group\",\\\n",
    "         \"top_funder\"]\n",
    "pipeline = make_pipeline(\n",
    "ce.OneHotEncoder(cols = cols1, use_cat_names=True),\n",
    "    RobustScaler(),\n",
    "    PCA(349),\n",
    "    KNeighborsClassifier(n_neighbors=20,weights='distance')\n",
    ")\n",
    "pipeline.fit(x_train[c1],y_train)\n",
    "y_pred = pipeline.predict(x_test[c1])\n",
    "accuracy_score(y_test,y_pred)"
   ]
  },
  {
   "cell_type": "code",
   "execution_count": null,
   "metadata": {},
   "outputs": [],
   "source": [
    "cols1 = [\"basin\",\"region\",\"region_code\",\"district_code\",\"scheme_management\",\"extraction_type\",\"management\",\\\n",
    "         \"extraction_type_group\",\"quantity_group\", \"payment\", \"waterpoint_type\",\"water_quality\",\"quality_group\",\"public_meeting\"\\\n",
    "        ,\"lga\",\"source\",\"source_class\",\"extraction_type_class\", \"top_installer\",\"management_group\",\\\n",
    "         \"top_funder\"]\n",
    "pipeline = make_pipeline(\n",
    "ce.OneHotEncoder(cols = cols1, use_cat_names=True),\n",
    "    RobustScaler(),\n",
    "    PCA(349),\n",
    "ensemble.GradientBoostingClassifier(subsample=0.9,n_estimators=200,max_depth=4)\n",
    ")\n",
    "pipeline.fit(x_train[c],y_train)\n",
    "y_pred = pipeline.predict(x_test[c])\n",
    "accuracy_score(y_test,y_pred)"
   ]
  },
  {
   "cell_type": "code",
   "execution_count": null,
   "metadata": {},
   "outputs": [],
   "source": [
    "print(classification_report(y_test,y_pred))"
   ]
  },
  {
   "cell_type": "code",
   "execution_count": 39,
   "metadata": {},
   "outputs": [
    {
     "data": {
      "text/plain": [
       "array([['non functional'],\n",
       "       ['functional'],\n",
       "       ['functional'],\n",
       "       ...,\n",
       "       ['non functional'],\n",
       "       ['functional'],\n",
       "       ['functional']], dtype=object)"
      ]
     },
     "execution_count": 39,
     "metadata": {},
     "output_type": "execute_result"
    }
   ],
   "source": [
    "y_test = np.array(y_test)\n",
    "y_test"
   ]
  },
  {
   "cell_type": "code",
   "execution_count": null,
   "metadata": {},
   "outputs": [],
   "source": [
    "assert type(y_test) == np.array"
   ]
  },
  {
   "cell_type": "code",
   "execution_count": null,
   "metadata": {},
   "outputs": [],
   "source": []
  },
  {
   "cell_type": "code",
   "execution_count": 61,
   "metadata": {},
   "outputs": [
    {
     "data": {
      "text/plain": [
       "<matplotlib.axes._subplots.AxesSubplot at 0x29aa636e4e0>"
      ]
     },
     "execution_count": 61,
     "metadata": {},
     "output_type": "execute_result"
    },
    {
     "data": {
      "image/png": "[encoded data removed]",
      "text/plain": [
       "<Figure size 432x288 with 2 Axes>"
      ]
     },
     "metadata": {},
     "output_type": "display_data"
    }
   ],
   "source": [
    "from sklearn.metrics import confusion_matrix\n",
    "\n",
    "def confusion_viz(y_true, y_pred):\n",
    "    y_true = np.array(y_true)\n",
    "    y_true = pd.Series(y_true.ravel())\n",
    "    labels = y_true.value_counts().index\n",
    "    matrix = confusion_matrix(y_true,y_pred)\n",
    "    graph = sns.heatmap(matrix, annot=True,\n",
    "                      fmt=',', linewidths=1,linecolor='grey',\n",
    "                      square=True,\n",
    "                      xticklabels=[\"Predicted\\n\" +str(i) for i in labels ], \n",
    "                      yticklabels=[\"Actual\\n\" + str(i) for i in labels],\n",
    "                      robust=True,\n",
    "                      cmap=sns.color_palette(\"coolwarm\"),\n",
    "                      )\n",
    "    plt.yticks(rotation=0)\n",
    "    plt.xticks(rotation=0)\n",
    "    return graph\n",
    "confusion_viz(y_test, y_pred)"
   ]
  },
  {
   "cell_type": "code",
   "execution_count": 41,
   "metadata": {},
   "outputs": [
    {
     "name": "stdout",
     "output_type": "stream",
     "text": [
      "Looking in indexes: https://test.pypi.org/simple/\n",
      "Collecting lambdata-crawftv\n",
      "  Downloading https://test-files.pythonhosted.org/packages/1c/d8/6d90ba106e914ec0debeda7db2f883c2670e0cf9ca0bf1ae05bf29cb8764/lambdata_crawftv-0.0.10-py3-none-any.whl\n",
      "Requirement already satisfied, skipping upgrade: seaborn in c:\\users\\cwcol\\anaconda3\\lib\\site-packages (from lambdata-crawftv) (0.9.0)\n",
      "Requirement already satisfied, skipping upgrade: scikit-learn in c:\\users\\cwcol\\anaconda3\\lib\\site-packages (from lambdata-crawftv) (0.20.2)\n",
      "Requirement already satisfied, skipping upgrade: pandas in c:\\users\\cwcol\\anaconda3\\lib\\site-packages (from lambdata-crawftv) (0.23.0)\n",
      "Requirement already satisfied, skipping upgrade: numpy in c:\\users\\cwcol\\anaconda3\\lib\\site-packages (from lambdata-crawftv) (1.15.4)\n",
      "Requirement already satisfied, skipping upgrade: scipy>=0.14.0 in c:\\users\\cwcol\\anaconda3\\lib\\site-packages (from seaborn->lambdata-crawftv) (1.2.0)\n",
      "Requirement already satisfied, skipping upgrade: matplotlib>=1.4.3 in c:\\users\\cwcol\\anaconda3\\lib\\site-packages (from seaborn->lambdata-crawftv) (2.2.2)\n",
      "Requirement already satisfied, skipping upgrade: pytz>=2011k in c:\\users\\cwcol\\anaconda3\\lib\\site-packages (from pandas->lambdata-crawftv) (2018.4)\n",
      "Requirement already satisfied, skipping upgrade: python-dateutil>=2.5.0 in c:\\users\\cwcol\\anaconda3\\lib\\site-packages (from pandas->lambdata-crawftv) (2.7.3)\n",
      "Requirement already satisfied, skipping upgrade: cycler>=0.10 in c:\\users\\cwcol\\anaconda3\\lib\\site-packages (from matplotlib>=1.4.3->seaborn->lambdata-crawftv) (0.10.0)\n",
      "Requirement already satisfied, skipping upgrade: pyparsing!=2.0.4,!=2.1.2,!=2.1.6,>=2.0.1 in c:\\users\\cwcol\\anaconda3\\lib\\site-packages (from matplotlib>=1.4.3->seaborn->lambdata-crawftv) (2.2.0)\n",
      "Requirement already satisfied, skipping upgrade: six>=1.10 in c:\\users\\cwcol\\anaconda3\\lib\\site-packages (from matplotlib>=1.4.3->seaborn->lambdata-crawftv) (1.11.0)\n",
      "Requirement already satisfied, skipping upgrade: kiwisolver>=1.0.1 in c:\\users\\cwcol\\anaconda3\\lib\\site-packages (from matplotlib>=1.4.3->seaborn->lambdata-crawftv) (1.0.1)\n",
      "Requirement already satisfied, skipping upgrade: setuptools in c:\\users\\cwcol\\anaconda3\\lib\\site-packages (from kiwisolver>=1.0.1->matplotlib>=1.4.3->seaborn->lambdata-crawftv) (39.1.0)\n",
      "Installing collected packages: lambdata-crawftv\n",
      "Successfully installed lambdata-crawftv-0.0.10\n"
     ]
    }
   ],
   "source": [
    "!pip install -U -i https://test.pypi.org/simple/ lambdata-crawftv"
   ]
  },
  {
   "cell_type": "code",
   "execution_count": 43,
   "metadata": {},
   "outputs": [],
   "source": [
    "from lambdata_crawftv.ClassificationVisualization import classification_visualization"
   ]
  },
  {
   "cell_type": "code",
   "execution_count": 44,
   "metadata": {},
   "outputs": [
    {
     "name": "stdout",
     "output_type": "stream",
     "text": [
      "                         precision    recall  f1-score   support\n",
      "\n",
      "             functional       0.74      0.86      0.80      1629\n",
      "functional needs repair       0.48      0.06      0.10       206\n",
      "         non functional       0.75      0.71      0.73      1135\n",
      "\n",
      "              micro avg       0.74      0.74      0.74      2970\n",
      "              macro avg       0.66      0.54      0.54      2970\n",
      "           weighted avg       0.73      0.74      0.72      2970\n",
      "\n",
      "AxesSubplot(0.241667,0.125;0.503333x0.755)\n"
     ]
    },
    {
     "data": {
      "image/png": "[encoded data removed]",
      "text/plain": [
       "<Figure size 432x288 with 2 Axes>"
      ]
     },
     "metadata": {},
     "output_type": "display_data"
    }
   ],
   "source": [
    "classification_visualization(y_test,y_pred)\n"
   ]
  },
  {
   "cell_type": "code",
   "execution_count": 55,
   "metadata": {},
   "outputs": [
    {
     "ename": "AttributeError",
     "evalue": "'DataFrame' object has no attribute 'ravel'",
     "output_type": "error",
     "traceback": [
      "\u001b[1;31m---------------------------------------------------------------------------\u001b[0m",
      "\u001b[1;31mAttributeError\u001b[0m                            Traceback (most recent call last)",
      "\u001b[1;32m<ipython-input-55-f99397a45db4>\u001b[0m in \u001b[0;36m<module>\u001b[1;34m()\u001b[0m\n\u001b[0;32m     12\u001b[0m                       \u001b[0mrobust\u001b[0m\u001b[1;33m=\u001b[0m\u001b[1;32mTrue\u001b[0m\u001b[1;33m,\u001b[0m\u001b[1;33m\u001b[0m\u001b[0m\n\u001b[0;32m     13\u001b[0m                       cmap=sns.light_palette(\"green\"))\n\u001b[1;32m---> 14\u001b[1;33m \u001b[0mconfusion_viz\u001b[0m\u001b[1;33m(\u001b[0m\u001b[0my_test\u001b[0m\u001b[1;33m,\u001b[0m \u001b[0my_pred\u001b[0m\u001b[1;33m)\u001b[0m\u001b[1;33m\u001b[0m\u001b[0m\n\u001b[0m",
      "\u001b[1;32m<ipython-input-55-f99397a45db4>\u001b[0m in \u001b[0;36mconfusion_viz\u001b[1;34m(y_true, y_pred)\u001b[0m\n\u001b[0;32m      2\u001b[0m \u001b[1;33m\u001b[0m\u001b[0m\n\u001b[0;32m      3\u001b[0m \u001b[1;32mdef\u001b[0m \u001b[0mconfusion_viz\u001b[0m\u001b[1;33m(\u001b[0m\u001b[0my_true\u001b[0m\u001b[1;33m,\u001b[0m \u001b[0my_pred\u001b[0m\u001b[1;33m)\u001b[0m\u001b[1;33m:\u001b[0m\u001b[1;33m\u001b[0m\u001b[0m\n\u001b[1;32m----> 4\u001b[1;33m     \u001b[0my_true\u001b[0m \u001b[1;33m=\u001b[0m \u001b[0mpd\u001b[0m\u001b[1;33m.\u001b[0m\u001b[0mSeries\u001b[0m\u001b[1;33m(\u001b[0m\u001b[0my_true\u001b[0m\u001b[1;33m.\u001b[0m\u001b[0mravel\u001b[0m\u001b[1;33m(\u001b[0m\u001b[1;33m)\u001b[0m\u001b[1;33m)\u001b[0m\u001b[1;33m\u001b[0m\u001b[0m\n\u001b[0m\u001b[0;32m      5\u001b[0m     \u001b[0mlabels\u001b[0m \u001b[1;33m=\u001b[0m \u001b[0my_true\u001b[0m\u001b[1;33m.\u001b[0m\u001b[0mvalue_counts\u001b[0m\u001b[1;33m(\u001b[0m\u001b[1;33m)\u001b[0m\u001b[1;33m.\u001b[0m\u001b[0mindex\u001b[0m\u001b[1;33m\u001b[0m\u001b[0m\n\u001b[0;32m      6\u001b[0m     \u001b[0mmatrix\u001b[0m \u001b[1;33m=\u001b[0m \u001b[0mconfusion_matrix\u001b[0m\u001b[1;33m(\u001b[0m\u001b[0my_true\u001b[0m\u001b[1;33m,\u001b[0m\u001b[0my_pred\u001b[0m\u001b[1;33m)\u001b[0m\u001b[1;33m\u001b[0m\u001b[0m\n",
      "\u001b[1;32m~\\Anaconda3\\lib\\site-packages\\pandas\\core\\generic.py\u001b[0m in \u001b[0;36m__getattr__\u001b[1;34m(self, name)\u001b[0m\n\u001b[0;32m   4370\u001b[0m             \u001b[1;32mif\u001b[0m \u001b[0mself\u001b[0m\u001b[1;33m.\u001b[0m\u001b[0m_info_axis\u001b[0m\u001b[1;33m.\u001b[0m\u001b[0m_can_hold_identifiers_and_holds_name\u001b[0m\u001b[1;33m(\u001b[0m\u001b[0mname\u001b[0m\u001b[1;33m)\u001b[0m\u001b[1;33m:\u001b[0m\u001b[1;33m\u001b[0m\u001b[0m\n\u001b[0;32m   4371\u001b[0m                 \u001b[1;32mreturn\u001b[0m \u001b[0mself\u001b[0m\u001b[1;33m[\u001b[0m\u001b[0mname\u001b[0m\u001b[1;33m]\u001b[0m\u001b[1;33m\u001b[0m\u001b[0m\n\u001b[1;32m-> 4372\u001b[1;33m             \u001b[1;32mreturn\u001b[0m \u001b[0mobject\u001b[0m\u001b[1;33m.\u001b[0m\u001b[0m__getattribute__\u001b[0m\u001b[1;33m(\u001b[0m\u001b[0mself\u001b[0m\u001b[1;33m,\u001b[0m \u001b[0mname\u001b[0m\u001b[1;33m)\u001b[0m\u001b[1;33m\u001b[0m\u001b[0m\n\u001b[0m\u001b[0;32m   4373\u001b[0m \u001b[1;33m\u001b[0m\u001b[0m\n\u001b[0;32m   4374\u001b[0m     \u001b[1;32mdef\u001b[0m \u001b[0m__setattr__\u001b[0m\u001b[1;33m(\u001b[0m\u001b[0mself\u001b[0m\u001b[1;33m,\u001b[0m \u001b[0mname\u001b[0m\u001b[1;33m,\u001b[0m \u001b[0mvalue\u001b[0m\u001b[1;33m)\u001b[0m\u001b[1;33m:\u001b[0m\u001b[1;33m\u001b[0m\u001b[0m\n",
      "\u001b[1;31mAttributeError\u001b[0m: 'DataFrame' object has no attribute 'ravel'"
     ]
    }
   ],
   "source": [
    "from sklearn.metrics import confusion_matrix\n",
    "\n",
    "def confusion_viz(y_true, y_pred):\n",
    "    y_true = pd.Series(y_true.ravel())\n",
    "    labels = y_true.value_counts().index\n",
    "    matrix = confusion_matrix(y_true,y_pred)\n",
    "    return sns.heatmap(matrix, annot=True,\n",
    "                      fmt=',', linewidths=1,linecolor='grey',\n",
    "                      square=True,\n",
    "                      xticklabels=[\"Predicted\\n\" +i for i in labels ], \n",
    "                      yticklabels=[\"Actual\\n\" + i for i in labels],\n",
    "                      robust=True,\n",
    "                      cmap=sns.light_palette(\"green\"))\n",
    "confusion_viz(y_test, y_pred)"
   ]
  },
  {
   "cell_type": "code",
   "execution_count": null,
   "metadata": {},
   "outputs": [],
   "source": [
    "y_test.T.shape"
   ]
  },
  {
   "cell_type": "code",
   "execution_count": null,
   "metadata": {},
   "outputs": [],
   "source": [
    "def label_generator(i):\n",
    "    return \"Predicted \" + i"
   ]
  },
  {
   "cell_type": "code",
   "execution_count": null,
   "metadata": {},
   "outputs": [],
   "source": [
    "y_test = pd.Series(y_test.values.ravel())\n",
    "labels = y_test.value_counts().index\n",
    "label_generator(labels[0])"
   ]
  },
  {
   "cell_type": "code",
   "execution_count": null,
   "metadata": {},
   "outputs": [],
   "source": [
    "from xgboost import XGBClassifier\n",
    "\n",
    "pipeline = make_pipeline(\n",
    "ce.OneHotEncoder(cols = cols1, use_cat_names=True),\n",
    "    RobustScaler(),\n",
    "    XGBClassifier(objective = 'multi:softmax', booster = 'gbtree', nrounds = 'min.error.idx', \n",
    "                          num_class = 3, maximize = False, eval_metric = 'merror', eta = .01,\n",
    "                          max_depth = 5, colsample_bytree = .4)\n",
    ")\n",
    "pipeline.fit(x_train[c],y_train)\n",
    "y_pred = pipeline.predict(x_test[c])\n",
    "accuracy_score(y_test,y_pred)"
   ]
  },
  {
   "cell_type": "code",
   "execution_count": null,
   "metadata": {},
   "outputs": [],
   "source": [
    "from sklearn.ensemble import RandomForestClassifier\n",
    "\n",
    "pipeline = make_pipeline(\n",
    "ce.OneHotEncoder(cols = cols1, use_cat_names=True),\n",
    "    RobustScaler(),\n",
    "    RandomForestClassifier()\n",
    ")\n",
    "pipeline.fit(x_train[c],y_train)\n",
    "y_pred = pipeline.predict(x_test[c])\n",
    "accuracy_score(y_test,y_pred)"
   ]
  },
  {
   "cell_type": "code",
   "execution_count": null,
   "metadata": {},
   "outputs": [],
   "source": [
    "z = test_features[[\"funder\", \"installer\", \"permit\", \"scheme_management\",\"construction_year\",\"payment\",\"latitude\",\"longitude\",]]\n",
    "z = z.replace([0,\"unknown\"],np.nan)\n",
    "z = z.isna()\n",
    "z[\"poorly_documented\"] = False\n",
    "for i in z.columns.values:\n",
    "    z[\"poorly_documented\"] = (z[\"poorly_documented\"] | z[i])\n",
    "test_features[\"poorly_documented\"] = z[\"poorly_documented\"]"
   ]
  },
  {
   "cell_type": "code",
   "execution_count": null,
   "metadata": {},
   "outputs": [],
   "source": [
    "dar_es_salaam = (39.28333,-6.8)\n",
    "mwanza = (32.9,-2.516667)\n",
    "arusha = (36.683333,-3.366667)\n",
    "dodoma = (35.741944,-6.173056)\n",
    "mbeya = (33.45,-8.9)\n",
    "morongoro = (37.66667,-6.816667)\n",
    "tanga = (39.1,-5.0666667)\n",
    "kahama = (32.6,-3.8375)\n",
    "tabora = (32.8,-5.016667)\n",
    "zanzibar = (39.199,-6.165)\n",
    "\n",
    "test_features[\"dar_es_salaam\"] = np.sqrt( (test_features[\"longitude\"] - dar_es_salaam[0])**2 + ( test_features[\"latitude\"]  - dar_es_salaam[1] )**2 )\n",
    "test_features[\"mwanza\"] = np.sqrt( (test_features[\"longitude\"] - mwanza[0])**2 + ( test_features[\"latitude\"]  - mwanza[1] )**2 )\n",
    "test_features[\"arusha\"] = np.sqrt( (test_features[\"longitude\"] - arusha[0])**2 + ( test_features[\"latitude\"]  - arusha[1] )**2 )\n",
    "test_features[\"dodoma\"] = np.sqrt( (test_features[\"longitude\"] - dodoma[0])**2 + ( test_features[\"latitude\"]  - dodoma[1] )**2 )\n",
    "test_features[\"mbeya\"] = np.sqrt( (test_features[\"longitude\"] - mbeya[0])**2 + ( test_features[\"latitude\"]  - mbeya[1] )**2 )\n",
    "test_features[\"morongoro\"] = np.sqrt( (test_features[\"longitude\"] - morongoro[0])**2 + ( test_features[\"latitude\"]  - morongoro[1] )**2 )\n",
    "test_features[\"tanga\"] = np.sqrt( (test_features[\"longitude\"] - tanga[0])**2 + ( test_features[\"latitude\"]  - tanga[1] )**2 )\n",
    "test_features[\"kahama\"] = np.sqrt( (test_features[\"longitude\"] - kahama[0])**2 + ( test_features[\"latitude\"]  - kahama[1] )**2 )\n",
    "test_features[\"tabora\"] = np.sqrt( (test_features[\"longitude\"] - tabora[0])**2 + ( test_features[\"latitude\"]  - tabora[1] )**2 )\n",
    "test_features[\"zanzibar\"] = np.sqrt( (test_features[\"longitude\"] - zanzibar[0])**2 + ( test_features[\"latitude\"]  - zanzibar[1] )**2 )\n",
    "\n",
    "test_features[\"distance_to_nearest_city\"] = test_features.loc[: , [\"dar_es_salaam\",\"mwanza\",\"arusha\",\"dodoma\",\"mbeya\",\"morongoro\",\"tanga\",\"kahama\",\"tabora\",\"zanzibar\"]].min(axis=1)"
   ]
  },
  {
   "cell_type": "code",
   "execution_count": null,
   "metadata": {},
   "outputs": [],
   "source": [
    "test_features\n",
    "test_features[\"construction_year\"] = test_features[\"construction_year\"].replace(0,2000)"
   ]
  },
  {
   "cell_type": "code",
   "execution_count": null,
   "metadata": {},
   "outputs": [],
   "source": [
    "test_features[\"top_installer\"] = test_features[\"installer\"].apply(lambda x : x in top_installers)\n",
    "test_features[\"top_funder\"] = test_features[\"funder\"].apply(lambda x : x in top_funder)\n",
    "\n",
    "y_test_pred = pipeline.predict(test_features[c1])\n",
    "y_test_pred\n",
    "df = pd.DataFrame(y_test_pred,columns=[\"status_group\"])\n",
    "df = pd.concat([test_features[\"id\"],df],axis=1)\n",
    "df = df.set_index(\"id\")\n",
    "df.to_csv(\"y_test_pred.csv\")"
   ]
  },
  {
   "cell_type": "code",
   "execution_count": null,
   "metadata": {},
   "outputs": [],
   "source": [
    "x_train"
   ]
  },
  {
   "cell_type": "code",
   "execution_count": null,
   "metadata": {},
   "outputs": [],
   "source": [
    "accuracy_score(y_test_pred)"
   ]
  },
  {
   "cell_type": "code",
   "execution_count": null,
   "metadata": {},
   "outputs": [],
   "source": []
  },
  {
   "cell_type": "code",
   "execution_count": null,
   "metadata": {},
   "outputs": [],
   "source": []
  }
 ],
 "metadata": {
  "kernelspec": {
   "display_name": "Python 3",
   "language": "python",
   "name": "python3"
  },
  "language_info": {
   "codemirror_mode": {
    "name": "ipython",
    "version": 3
   },
   "file_extension": ".py",
   "mimetype": "text/x-python",
   "name": "python",
   "nbconvert_exporter": "python",
   "pygments_lexer": "ipython3",
   "version": "3.6.5"
  }
 },
 "nbformat": 4,
 "nbformat_minor": 2
}
